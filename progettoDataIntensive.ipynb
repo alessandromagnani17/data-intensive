{
 "cells": [
  {
   "cell_type": "markdown",
   "metadata": {},
   "source": [
    "# Predizione dei prezzi dei consumi elettrici\n",
    "\n",
    "\n",
    "**Magnani Alessandro**, num. matricola: 0000889833\\\n",
    "`alessandro.magnani18@studio.unibo.it`\n",
    "\n",
    "**Programmazione di Applicazioni Data Intensive**  \n",
    "Laurea in Ingegneria e Scienze Informatiche  \n",
    "DISI - Università di Bologna, Cesena\n"
   ]
  },
  {
   "cell_type": "markdown",
   "metadata": {},
   "source": [
    "Citazioni:\n",
    "* household-monthly-electricity-bill:\\\n",
    "https://www.kaggle.com/gireeshs/household-monthly-electricity-bill"
   ]
  },
  {
   "cell_type": "markdown",
   "metadata": {},
   "source": [
    "## Descrizione del Problema e analisi Esplorativa\n",
    "L'idea alla base di questo Dataset è osservare come il numero di persone e le dimensioni della casa influenzino il consumo mensile di elettricità in casa.\n",
    "\n",
    "In questo progetto, infatti, si vuole realizzare un modello in grado di predire i prezzi dei consumi elettrici in base a parametri specifici come dimensioni e zona nella quale sono situate le varie abitazioni."
   ]
  },
  {
   "cell_type": "markdown",
   "metadata": {},
   "source": [
    "### Caricamento delle librerie\n",
    "\n",
    "Iniziamo importando le librerie esterne che saranno utili per lo svolgimento del progetto:\n",
    "- numpy, necessaria per eseguire operazioni su vettori e matrici N-dimensionali\n",
    "- pandas, per il caricamento e la gestione dei dati tabellare\n",
    "- matplotlib, necessaria alla creazione di diverse tipologie di grafici\n",
    "- seaborn, che fornisce un'interfaccia di alto livello per disegnare grafici statistici interessanti e informativi.\n",
    "\n",
    "Dopodichè abilitiamo l'inserimento dei grafici direttamente nel notebook con *%matplotlib inline*."
   ]
  },
  {
   "cell_type": "code",
   "execution_count": 1,
   "metadata": {},
   "outputs": [],
   "source": [
    "import numpy as np\n",
    "import pandas as pd\n",
    "import matplotlib.pyplot as plt\n",
    "import seaborn as sb\n",
    "from sklearn.model_selection import train_test_split\n",
    "from math import sqrt\n",
    "\n",
    "%matplotlib inline"
   ]
  },
  {
   "cell_type": "markdown",
   "metadata": {},
   "source": [
    "### Caricamento del Dataset\n",
    "Si recupera dalla Reposition GitHub il file del dataset."
   ]
  },
  {
   "cell_type": "code",
   "execution_count": 2,
   "metadata": {},
   "outputs": [],
   "source": [
    "import os.path\n",
    "if not os.path.exists(\"prezzo.csv\"):\n",
    "    from urllib.request import urlretrieve\n",
    "    urlretrieve(\"https://raw.githubusercontent.com/alessandromagnani17/data-intensive/main/prezzo.csv\", \"prezzo.csv\")"
   ]
  },
  {
   "cell_type": "markdown",
   "metadata": {},
   "source": [
    "Usiamo pandas per caricare i dati in un DataFrame dato l'URL del file."
   ]
  },
  {
   "cell_type": "code",
   "execution_count": 3,
   "metadata": {},
   "outputs": [],
   "source": [
    "dataset = pd.read_csv(\"prezzo.csv\", sep=\",\")"
   ]
  },
  {
   "cell_type": "code",
   "execution_count": 4,
   "metadata": {},
   "outputs": [],
   "source": [
    "dataset.insert(0, 'id', range(len(dataset)))\n",
    "dataset.set_index(\"id\", inplace=True)"
   ]
  },
  {
   "cell_type": "markdown",
   "metadata": {},
   "source": [
    "Visualizziamo una parte (le prime 5 righe) del nostro dataset."
   ]
  },
  {
   "cell_type": "code",
   "execution_count": 5,
   "metadata": {},
   "outputs": [
    {
     "data": {
      "text/html": [
       "<div>\n",
       "<style scoped>\n",
       "    .dataframe tbody tr th:only-of-type {\n",
       "        vertical-align: middle;\n",
       "    }\n",
       "\n",
       "    .dataframe tbody tr th {\n",
       "        vertical-align: top;\n",
       "    }\n",
       "\n",
       "    .dataframe thead th {\n",
       "        text-align: right;\n",
       "    }\n",
       "</style>\n",
       "<table border=\"1\" class=\"dataframe\">\n",
       "  <thead>\n",
       "    <tr style=\"text-align: right;\">\n",
       "      <th></th>\n",
       "      <th>num_rooms</th>\n",
       "      <th>num_people</th>\n",
       "      <th>housearea</th>\n",
       "      <th>is_ac</th>\n",
       "      <th>is_tv</th>\n",
       "      <th>is_flat</th>\n",
       "      <th>ave_monthly_income</th>\n",
       "      <th>num_children</th>\n",
       "      <th>is_urban</th>\n",
       "      <th>amount_paid</th>\n",
       "    </tr>\n",
       "    <tr>\n",
       "      <th>id</th>\n",
       "      <th></th>\n",
       "      <th></th>\n",
       "      <th></th>\n",
       "      <th></th>\n",
       "      <th></th>\n",
       "      <th></th>\n",
       "      <th></th>\n",
       "      <th></th>\n",
       "      <th></th>\n",
       "      <th></th>\n",
       "    </tr>\n",
       "  </thead>\n",
       "  <tbody>\n",
       "    <tr>\n",
       "      <th>0</th>\n",
       "      <td>3</td>\n",
       "      <td>3</td>\n",
       "      <td>742.57</td>\n",
       "      <td>1</td>\n",
       "      <td>1</td>\n",
       "      <td>1</td>\n",
       "      <td>9675.93</td>\n",
       "      <td>2</td>\n",
       "      <td>0</td>\n",
       "      <td>560.481447</td>\n",
       "    </tr>\n",
       "    <tr>\n",
       "      <th>1</th>\n",
       "      <td>1</td>\n",
       "      <td>5</td>\n",
       "      <td>952.99</td>\n",
       "      <td>0</td>\n",
       "      <td>1</td>\n",
       "      <td>0</td>\n",
       "      <td>35064.79</td>\n",
       "      <td>1</td>\n",
       "      <td>1</td>\n",
       "      <td>633.283679</td>\n",
       "    </tr>\n",
       "    <tr>\n",
       "      <th>2</th>\n",
       "      <td>3</td>\n",
       "      <td>1</td>\n",
       "      <td>761.44</td>\n",
       "      <td>1</td>\n",
       "      <td>1</td>\n",
       "      <td>1</td>\n",
       "      <td>22292.44</td>\n",
       "      <td>0</td>\n",
       "      <td>0</td>\n",
       "      <td>511.879157</td>\n",
       "    </tr>\n",
       "    <tr>\n",
       "      <th>3</th>\n",
       "      <td>0</td>\n",
       "      <td>5</td>\n",
       "      <td>861.32</td>\n",
       "      <td>1</td>\n",
       "      <td>1</td>\n",
       "      <td>0</td>\n",
       "      <td>12139.08</td>\n",
       "      <td>0</td>\n",
       "      <td>0</td>\n",
       "      <td>332.992035</td>\n",
       "    </tr>\n",
       "    <tr>\n",
       "      <th>4</th>\n",
       "      <td>1</td>\n",
       "      <td>8</td>\n",
       "      <td>731.61</td>\n",
       "      <td>0</td>\n",
       "      <td>1</td>\n",
       "      <td>0</td>\n",
       "      <td>17230.10</td>\n",
       "      <td>2</td>\n",
       "      <td>1</td>\n",
       "      <td>658.285625</td>\n",
       "    </tr>\n",
       "  </tbody>\n",
       "</table>\n",
       "</div>"
      ],
      "text/plain": [
       "    num_rooms  num_people  housearea  is_ac  is_tv  is_flat  \\\n",
       "id                                                            \n",
       "0           3           3     742.57      1      1        1   \n",
       "1           1           5     952.99      0      1        0   \n",
       "2           3           1     761.44      1      1        1   \n",
       "3           0           5     861.32      1      1        0   \n",
       "4           1           8     731.61      0      1        0   \n",
       "\n",
       "    ave_monthly_income  num_children  is_urban  amount_paid  \n",
       "id                                                           \n",
       "0              9675.93             2         0   560.481447  \n",
       "1             35064.79             1         1   633.283679  \n",
       "2             22292.44             0         0   511.879157  \n",
       "3             12139.08             0         0   332.992035  \n",
       "4             17230.10             2         1   658.285625  "
      ]
     },
     "execution_count": 5,
     "metadata": {},
     "output_type": "execute_result"
    }
   ],
   "source": [
    "dataset.head()"
   ]
  },
  {
   "cell_type": "markdown",
   "metadata": {},
   "source": [
    "### Preprocessing del dataset\n",
    "\n",
    "Iniziamo cambiando nome alle colonne per una migliore comprensione del Dataset."
   ]
  },
  {
   "cell_type": "code",
   "execution_count": 6,
   "metadata": {},
   "outputs": [
    {
     "data": {
      "text/html": [
       "<div>\n",
       "<style scoped>\n",
       "    .dataframe tbody tr th:only-of-type {\n",
       "        vertical-align: middle;\n",
       "    }\n",
       "\n",
       "    .dataframe tbody tr th {\n",
       "        vertical-align: top;\n",
       "    }\n",
       "\n",
       "    .dataframe thead th {\n",
       "        text-align: right;\n",
       "    }\n",
       "</style>\n",
       "<table border=\"1\" class=\"dataframe\">\n",
       "  <thead>\n",
       "    <tr style=\"text-align: right;\">\n",
       "      <th></th>\n",
       "      <th>NumStanze</th>\n",
       "      <th>NumPersone</th>\n",
       "      <th>DimensioniCasa</th>\n",
       "      <th>AriaCondizionata</th>\n",
       "      <th>Tv</th>\n",
       "      <th>Appartamento</th>\n",
       "      <th>Reddito</th>\n",
       "      <th>NumBambini</th>\n",
       "      <th>AreaUrbana</th>\n",
       "      <th>ImportoPagato</th>\n",
       "    </tr>\n",
       "    <tr>\n",
       "      <th>id</th>\n",
       "      <th></th>\n",
       "      <th></th>\n",
       "      <th></th>\n",
       "      <th></th>\n",
       "      <th></th>\n",
       "      <th></th>\n",
       "      <th></th>\n",
       "      <th></th>\n",
       "      <th></th>\n",
       "      <th></th>\n",
       "    </tr>\n",
       "  </thead>\n",
       "  <tbody>\n",
       "    <tr>\n",
       "      <th>0</th>\n",
       "      <td>3</td>\n",
       "      <td>3</td>\n",
       "      <td>742.57</td>\n",
       "      <td>1</td>\n",
       "      <td>1</td>\n",
       "      <td>1</td>\n",
       "      <td>9675.93</td>\n",
       "      <td>2</td>\n",
       "      <td>0</td>\n",
       "      <td>560.481447</td>\n",
       "    </tr>\n",
       "    <tr>\n",
       "      <th>1</th>\n",
       "      <td>1</td>\n",
       "      <td>5</td>\n",
       "      <td>952.99</td>\n",
       "      <td>0</td>\n",
       "      <td>1</td>\n",
       "      <td>0</td>\n",
       "      <td>35064.79</td>\n",
       "      <td>1</td>\n",
       "      <td>1</td>\n",
       "      <td>633.283679</td>\n",
       "    </tr>\n",
       "    <tr>\n",
       "      <th>2</th>\n",
       "      <td>3</td>\n",
       "      <td>1</td>\n",
       "      <td>761.44</td>\n",
       "      <td>1</td>\n",
       "      <td>1</td>\n",
       "      <td>1</td>\n",
       "      <td>22292.44</td>\n",
       "      <td>0</td>\n",
       "      <td>0</td>\n",
       "      <td>511.879157</td>\n",
       "    </tr>\n",
       "    <tr>\n",
       "      <th>3</th>\n",
       "      <td>0</td>\n",
       "      <td>5</td>\n",
       "      <td>861.32</td>\n",
       "      <td>1</td>\n",
       "      <td>1</td>\n",
       "      <td>0</td>\n",
       "      <td>12139.08</td>\n",
       "      <td>0</td>\n",
       "      <td>0</td>\n",
       "      <td>332.992035</td>\n",
       "    </tr>\n",
       "    <tr>\n",
       "      <th>4</th>\n",
       "      <td>1</td>\n",
       "      <td>8</td>\n",
       "      <td>731.61</td>\n",
       "      <td>0</td>\n",
       "      <td>1</td>\n",
       "      <td>0</td>\n",
       "      <td>17230.10</td>\n",
       "      <td>2</td>\n",
       "      <td>1</td>\n",
       "      <td>658.285625</td>\n",
       "    </tr>\n",
       "    <tr>\n",
       "      <th>...</th>\n",
       "      <td>...</td>\n",
       "      <td>...</td>\n",
       "      <td>...</td>\n",
       "      <td>...</td>\n",
       "      <td>...</td>\n",
       "      <td>...</td>\n",
       "      <td>...</td>\n",
       "      <td>...</td>\n",
       "      <td>...</td>\n",
       "      <td>...</td>\n",
       "    </tr>\n",
       "    <tr>\n",
       "      <th>995</th>\n",
       "      <td>3</td>\n",
       "      <td>0</td>\n",
       "      <td>991.31</td>\n",
       "      <td>0</td>\n",
       "      <td>1</td>\n",
       "      <td>0</td>\n",
       "      <td>12687.26</td>\n",
       "      <td>1</td>\n",
       "      <td>1</td>\n",
       "      <td>655.870111</td>\n",
       "    </tr>\n",
       "    <tr>\n",
       "      <th>996</th>\n",
       "      <td>2</td>\n",
       "      <td>5</td>\n",
       "      <td>847.97</td>\n",
       "      <td>0</td>\n",
       "      <td>1</td>\n",
       "      <td>0</td>\n",
       "      <td>39502.92</td>\n",
       "      <td>0</td>\n",
       "      <td>0</td>\n",
       "      <td>354.472693</td>\n",
       "    </tr>\n",
       "    <tr>\n",
       "      <th>997</th>\n",
       "      <td>2</td>\n",
       "      <td>4</td>\n",
       "      <td>660.94</td>\n",
       "      <td>1</td>\n",
       "      <td>0</td>\n",
       "      <td>0</td>\n",
       "      <td>10145.17</td>\n",
       "      <td>0</td>\n",
       "      <td>1</td>\n",
       "      <td>568.660550</td>\n",
       "    </tr>\n",
       "    <tr>\n",
       "      <th>998</th>\n",
       "      <td>1</td>\n",
       "      <td>1</td>\n",
       "      <td>814.75</td>\n",
       "      <td>0</td>\n",
       "      <td>1</td>\n",
       "      <td>1</td>\n",
       "      <td>15535.05</td>\n",
       "      <td>0</td>\n",
       "      <td>1</td>\n",
       "      <td>653.423314</td>\n",
       "    </tr>\n",
       "    <tr>\n",
       "      <th>999</th>\n",
       "      <td>1</td>\n",
       "      <td>6</td>\n",
       "      <td>835.43</td>\n",
       "      <td>0</td>\n",
       "      <td>0</td>\n",
       "      <td>0</td>\n",
       "      <td>22204.00</td>\n",
       "      <td>0</td>\n",
       "      <td>1</td>\n",
       "      <td>537.801005</td>\n",
       "    </tr>\n",
       "  </tbody>\n",
       "</table>\n",
       "<p>1000 rows × 10 columns</p>\n",
       "</div>"
      ],
      "text/plain": [
       "     NumStanze  NumPersone  DimensioniCasa  AriaCondizionata  Tv  \\\n",
       "id                                                                 \n",
       "0            3           3          742.57                 1   1   \n",
       "1            1           5          952.99                 0   1   \n",
       "2            3           1          761.44                 1   1   \n",
       "3            0           5          861.32                 1   1   \n",
       "4            1           8          731.61                 0   1   \n",
       "..         ...         ...             ...               ...  ..   \n",
       "995          3           0          991.31                 0   1   \n",
       "996          2           5          847.97                 0   1   \n",
       "997          2           4          660.94                 1   0   \n",
       "998          1           1          814.75                 0   1   \n",
       "999          1           6          835.43                 0   0   \n",
       "\n",
       "     Appartamento   Reddito  NumBambini  AreaUrbana  ImportoPagato  \n",
       "id                                                                  \n",
       "0               1   9675.93           2           0     560.481447  \n",
       "1               0  35064.79           1           1     633.283679  \n",
       "2               1  22292.44           0           0     511.879157  \n",
       "3               0  12139.08           0           0     332.992035  \n",
       "4               0  17230.10           2           1     658.285625  \n",
       "..            ...       ...         ...         ...            ...  \n",
       "995             0  12687.26           1           1     655.870111  \n",
       "996             0  39502.92           0           0     354.472693  \n",
       "997             0  10145.17           0           1     568.660550  \n",
       "998             1  15535.05           0           1     653.423314  \n",
       "999             0  22204.00           0           1     537.801005  \n",
       "\n",
       "[1000 rows x 10 columns]"
      ]
     },
     "execution_count": 6,
     "metadata": {},
     "output_type": "execute_result"
    }
   ],
   "source": [
    "dataset.columns = \"NumStanze NumPersone DimensioniCasa AriaCondizionata Tv Appartamento Reddito NumBambini AreaUrbana ImportoPagato\".split()\n",
    "dataset"
   ]
  },
  {
   "cell_type": "markdown",
   "metadata": {},
   "source": [
    "Prima di analizzare il Dataset, occorre controllare che non vi siano valori NaN dal momento che potrebbero poi influire sulle operazioni successive di predizione, restituendoci valori imprecisi. "
   ]
  },
  {
   "cell_type": "code",
   "execution_count": 7,
   "metadata": {},
   "outputs": [
    {
     "data": {
      "text/plain": [
       "NumStanze           0\n",
       "NumPersone          0\n",
       "DimensioniCasa      0\n",
       "AriaCondizionata    0\n",
       "Tv                  0\n",
       "Appartamento        0\n",
       "Reddito             0\n",
       "NumBambini          0\n",
       "AreaUrbana          0\n",
       "ImportoPagato       0\n",
       "dtype: int64"
      ]
     },
     "execution_count": 7,
     "metadata": {},
     "output_type": "execute_result"
    }
   ],
   "source": [
    "dataset.isna().sum()"
   ]
  },
  {
   "cell_type": "markdown",
   "metadata": {},
   "source": [
    "Dal momento che non ci sono valori NaN, non occorre eliminarli e possiamo passare all'analisi della struttura del Dataset."
   ]
  },
  {
   "cell_type": "code",
   "execution_count": 8,
   "metadata": {},
   "outputs": [
    {
     "name": "stdout",
     "output_type": "stream",
     "text": [
      "<class 'pandas.core.frame.DataFrame'>\n",
      "Int64Index: 1000 entries, 0 to 999\n",
      "Data columns (total 10 columns):\n",
      " #   Column            Non-Null Count  Dtype  \n",
      "---  ------            --------------  -----  \n",
      " 0   NumStanze         1000 non-null   int64  \n",
      " 1   NumPersone        1000 non-null   int64  \n",
      " 2   DimensioniCasa    1000 non-null   float64\n",
      " 3   AriaCondizionata  1000 non-null   int64  \n",
      " 4   Tv                1000 non-null   int64  \n",
      " 5   Appartamento      1000 non-null   int64  \n",
      " 6   Reddito           1000 non-null   float64\n",
      " 7   NumBambini        1000 non-null   int64  \n",
      " 8   AreaUrbana        1000 non-null   int64  \n",
      " 9   ImportoPagato     1000 non-null   float64\n",
      "dtypes: float64(3), int64(7)\n",
      "memory usage: 85.9 KB\n"
     ]
    }
   ],
   "source": [
    "dataset.info()"
   ]
  },
  {
   "cell_type": "markdown",
   "metadata": {},
   "source": [
    "### Comprensione delle feature\n",
    "\n",
    "Le colonne del nostro Dataset hanno i seguenti significati:\n",
    "- **`NumStanze`**: Numero di stanze della abitazione\n",
    "- **`NumPersone`**: Numero di persone nella abitazione\n",
    "- **`DimensioniCasa`**: Dimensioni della abitazione in metri cubi\n",
    "- **`AriaCondizionata`**: Indica se è presente o meno l'aria condizionata all'interno dell'abitazione (assume valore 0 quando è assente e 1 quando è presente)\n",
    "- **`Tv`**: Indica se è presente o meno un televisore all'interno dell'abitazione (assume valore 0 quando è assente e 1 quando è presente)\n",
    "- **`Appartamento`**: Indica se l'abitazione è o meno un appartamento (assume valore 0 quando non lo è e 1 quando lo è)\n",
    "- **`Reddito`**: Reddito medio mensile del nucleo familiare (in Euro)\n",
    "- **`NumBambini`**: Numero di bambini in casa\n",
    "- **`AreaUrbana`**: Indica se l'abitazione è situata in una zona urbana (assume valore 0 quando non lo è e 1 quando lo è)\n",
    "\n",
    "\n",
    "Variabile da predire:\n",
    "- **`ImportoPagato`**: Importo pagato come bolletta mensile"
   ]
  },
  {
   "cell_type": "markdown",
   "metadata": {},
   "source": [
    "## Esplorazione delle singole feature\n",
    "\n",
    "Per l'esplorazione delle singole feature, iniziamo osservando le informazioni dei vari parametri sfruttando la funzione `describe`.\n"
   ]
  },
  {
   "cell_type": "code",
   "execution_count": 9,
   "metadata": {
    "scrolled": true
   },
   "outputs": [
    {
     "data": {
      "text/html": [
       "<div>\n",
       "<style scoped>\n",
       "    .dataframe tbody tr th:only-of-type {\n",
       "        vertical-align: middle;\n",
       "    }\n",
       "\n",
       "    .dataframe tbody tr th {\n",
       "        vertical-align: top;\n",
       "    }\n",
       "\n",
       "    .dataframe thead th {\n",
       "        text-align: right;\n",
       "    }\n",
       "</style>\n",
       "<table border=\"1\" class=\"dataframe\">\n",
       "  <thead>\n",
       "    <tr style=\"text-align: right;\">\n",
       "      <th></th>\n",
       "      <th>NumStanze</th>\n",
       "      <th>NumPersone</th>\n",
       "      <th>DimensioniCasa</th>\n",
       "      <th>AriaCondizionata</th>\n",
       "      <th>Tv</th>\n",
       "      <th>Appartamento</th>\n",
       "      <th>Reddito</th>\n",
       "      <th>NumBambini</th>\n",
       "      <th>AreaUrbana</th>\n",
       "      <th>ImportoPagato</th>\n",
       "    </tr>\n",
       "  </thead>\n",
       "  <tbody>\n",
       "    <tr>\n",
       "      <th>count</th>\n",
       "      <td>1000.000000</td>\n",
       "      <td>1000.000000</td>\n",
       "      <td>1000.000000</td>\n",
       "      <td>1000.000000</td>\n",
       "      <td>1000.000000</td>\n",
       "      <td>1000.000000</td>\n",
       "      <td>1000.000000</td>\n",
       "      <td>1000.000000</td>\n",
       "      <td>1000.000000</td>\n",
       "      <td>1000.000000</td>\n",
       "    </tr>\n",
       "    <tr>\n",
       "      <th>mean</th>\n",
       "      <td>1.962000</td>\n",
       "      <td>4.897000</td>\n",
       "      <td>794.703420</td>\n",
       "      <td>0.376000</td>\n",
       "      <td>0.798000</td>\n",
       "      <td>0.477000</td>\n",
       "      <td>24684.986550</td>\n",
       "      <td>1.078000</td>\n",
       "      <td>0.608000</td>\n",
       "      <td>600.396359</td>\n",
       "    </tr>\n",
       "    <tr>\n",
       "      <th>std</th>\n",
       "      <td>1.030348</td>\n",
       "      <td>2.007591</td>\n",
       "      <td>147.771736</td>\n",
       "      <td>0.484622</td>\n",
       "      <td>0.401693</td>\n",
       "      <td>0.499721</td>\n",
       "      <td>9678.228224</td>\n",
       "      <td>0.934232</td>\n",
       "      <td>0.488441</td>\n",
       "      <td>181.406210</td>\n",
       "    </tr>\n",
       "    <tr>\n",
       "      <th>min</th>\n",
       "      <td>-1.000000</td>\n",
       "      <td>-1.000000</td>\n",
       "      <td>244.400000</td>\n",
       "      <td>0.000000</td>\n",
       "      <td>0.000000</td>\n",
       "      <td>0.000000</td>\n",
       "      <td>-1576.440000</td>\n",
       "      <td>0.000000</td>\n",
       "      <td>0.000000</td>\n",
       "      <td>87.851850</td>\n",
       "    </tr>\n",
       "    <tr>\n",
       "      <th>25%</th>\n",
       "      <td>1.000000</td>\n",
       "      <td>4.000000</td>\n",
       "      <td>691.037500</td>\n",
       "      <td>0.000000</td>\n",
       "      <td>1.000000</td>\n",
       "      <td>0.000000</td>\n",
       "      <td>18036.762500</td>\n",
       "      <td>0.000000</td>\n",
       "      <td>0.000000</td>\n",
       "      <td>475.065141</td>\n",
       "    </tr>\n",
       "    <tr>\n",
       "      <th>50%</th>\n",
       "      <td>2.000000</td>\n",
       "      <td>5.000000</td>\n",
       "      <td>789.970000</td>\n",
       "      <td>0.000000</td>\n",
       "      <td>1.000000</td>\n",
       "      <td>0.000000</td>\n",
       "      <td>24742.575000</td>\n",
       "      <td>1.000000</td>\n",
       "      <td>1.000000</td>\n",
       "      <td>598.331726</td>\n",
       "    </tr>\n",
       "    <tr>\n",
       "      <th>75%</th>\n",
       "      <td>3.000000</td>\n",
       "      <td>6.000000</td>\n",
       "      <td>892.955000</td>\n",
       "      <td>1.000000</td>\n",
       "      <td>1.000000</td>\n",
       "      <td>1.000000</td>\n",
       "      <td>31402.357500</td>\n",
       "      <td>2.000000</td>\n",
       "      <td>1.000000</td>\n",
       "      <td>729.930489</td>\n",
       "    </tr>\n",
       "    <tr>\n",
       "      <th>max</th>\n",
       "      <td>5.000000</td>\n",
       "      <td>11.000000</td>\n",
       "      <td>1189.120000</td>\n",
       "      <td>1.000000</td>\n",
       "      <td>1.000000</td>\n",
       "      <td>1.000000</td>\n",
       "      <td>56531.080000</td>\n",
       "      <td>4.000000</td>\n",
       "      <td>1.000000</td>\n",
       "      <td>1102.994109</td>\n",
       "    </tr>\n",
       "  </tbody>\n",
       "</table>\n",
       "</div>"
      ],
      "text/plain": [
       "         NumStanze   NumPersone  DimensioniCasa  AriaCondizionata  \\\n",
       "count  1000.000000  1000.000000     1000.000000       1000.000000   \n",
       "mean      1.962000     4.897000      794.703420          0.376000   \n",
       "std       1.030348     2.007591      147.771736          0.484622   \n",
       "min      -1.000000    -1.000000      244.400000          0.000000   \n",
       "25%       1.000000     4.000000      691.037500          0.000000   \n",
       "50%       2.000000     5.000000      789.970000          0.000000   \n",
       "75%       3.000000     6.000000      892.955000          1.000000   \n",
       "max       5.000000    11.000000     1189.120000          1.000000   \n",
       "\n",
       "                Tv  Appartamento       Reddito   NumBambini   AreaUrbana  \\\n",
       "count  1000.000000   1000.000000   1000.000000  1000.000000  1000.000000   \n",
       "mean      0.798000      0.477000  24684.986550     1.078000     0.608000   \n",
       "std       0.401693      0.499721   9678.228224     0.934232     0.488441   \n",
       "min       0.000000      0.000000  -1576.440000     0.000000     0.000000   \n",
       "25%       1.000000      0.000000  18036.762500     0.000000     0.000000   \n",
       "50%       1.000000      0.000000  24742.575000     1.000000     1.000000   \n",
       "75%       1.000000      1.000000  31402.357500     2.000000     1.000000   \n",
       "max       1.000000      1.000000  56531.080000     4.000000     1.000000   \n",
       "\n",
       "       ImportoPagato  \n",
       "count    1000.000000  \n",
       "mean      600.396359  \n",
       "std       181.406210  \n",
       "min        87.851850  \n",
       "25%       475.065141  \n",
       "50%       598.331726  \n",
       "75%       729.930489  \n",
       "max      1102.994109  "
      ]
     },
     "execution_count": 9,
     "metadata": {},
     "output_type": "execute_result"
    }
   ],
   "source": [
    "dataset.describe()"
   ]
  },
  {
   "cell_type": "markdown",
   "metadata": {},
   "source": [
    "Notiamo dalla riga indicante i valori minimi come NumStanze, NumPersone e Reddito abbiano valori negativi (nel caso di NumStanze e NumPersone ad esempio, assumono valore -1 quando i dati sono mancanti).\n",
    "Poichè non è possibile ricostruire valori mancanti e i valori negativi sono concettualmente un ostacolo alla nostra predizione, siamo costretti ad eliminare tutte le righe che li contengono."
   ]
  },
  {
   "cell_type": "code",
   "execution_count": 10,
   "metadata": {},
   "outputs": [],
   "source": [
    "for column in dataset:\n",
    "    dataset = dataset[dataset[column] >= 0]"
   ]
  },
  {
   "cell_type": "code",
   "execution_count": 11,
   "metadata": {
    "scrolled": true
   },
   "outputs": [
    {
     "data": {
      "text/html": [
       "<div>\n",
       "<style scoped>\n",
       "    .dataframe tbody tr th:only-of-type {\n",
       "        vertical-align: middle;\n",
       "    }\n",
       "\n",
       "    .dataframe tbody tr th {\n",
       "        vertical-align: top;\n",
       "    }\n",
       "\n",
       "    .dataframe thead th {\n",
       "        text-align: right;\n",
       "    }\n",
       "</style>\n",
       "<table border=\"1\" class=\"dataframe\">\n",
       "  <thead>\n",
       "    <tr style=\"text-align: right;\">\n",
       "      <th></th>\n",
       "      <th>NumStanze</th>\n",
       "      <th>NumPersone</th>\n",
       "      <th>DimensioniCasa</th>\n",
       "      <th>AriaCondizionata</th>\n",
       "      <th>Tv</th>\n",
       "      <th>Appartamento</th>\n",
       "      <th>Reddito</th>\n",
       "      <th>NumBambini</th>\n",
       "      <th>AreaUrbana</th>\n",
       "      <th>ImportoPagato</th>\n",
       "    </tr>\n",
       "  </thead>\n",
       "  <tbody>\n",
       "    <tr>\n",
       "      <th>count</th>\n",
       "      <td>985.000000</td>\n",
       "      <td>985.000000</td>\n",
       "      <td>985.000000</td>\n",
       "      <td>985.000000</td>\n",
       "      <td>985.000000</td>\n",
       "      <td>985.000000</td>\n",
       "      <td>985.000000</td>\n",
       "      <td>985.000000</td>\n",
       "      <td>985.000000</td>\n",
       "      <td>985.000000</td>\n",
       "    </tr>\n",
       "    <tr>\n",
       "      <th>mean</th>\n",
       "      <td>1.974619</td>\n",
       "      <td>4.916751</td>\n",
       "      <td>794.795076</td>\n",
       "      <td>0.376650</td>\n",
       "      <td>0.796954</td>\n",
       "      <td>0.475127</td>\n",
       "      <td>24864.951096</td>\n",
       "      <td>1.073096</td>\n",
       "      <td>0.608122</td>\n",
       "      <td>600.532678</td>\n",
       "    </tr>\n",
       "    <tr>\n",
       "      <th>std</th>\n",
       "      <td>1.011301</td>\n",
       "      <td>1.978331</td>\n",
       "      <td>148.095265</td>\n",
       "      <td>0.484792</td>\n",
       "      <td>0.402471</td>\n",
       "      <td>0.499635</td>\n",
       "      <td>9512.214266</td>\n",
       "      <td>0.928729</td>\n",
       "      <td>0.488418</td>\n",
       "      <td>181.323729</td>\n",
       "    </tr>\n",
       "    <tr>\n",
       "      <th>min</th>\n",
       "      <td>0.000000</td>\n",
       "      <td>0.000000</td>\n",
       "      <td>244.400000</td>\n",
       "      <td>0.000000</td>\n",
       "      <td>0.000000</td>\n",
       "      <td>0.000000</td>\n",
       "      <td>37.780000</td>\n",
       "      <td>0.000000</td>\n",
       "      <td>0.000000</td>\n",
       "      <td>87.851850</td>\n",
       "    </tr>\n",
       "    <tr>\n",
       "      <th>25%</th>\n",
       "      <td>1.000000</td>\n",
       "      <td>4.000000</td>\n",
       "      <td>691.100000</td>\n",
       "      <td>0.000000</td>\n",
       "      <td>1.000000</td>\n",
       "      <td>0.000000</td>\n",
       "      <td>18394.700000</td>\n",
       "      <td>0.000000</td>\n",
       "      <td>0.000000</td>\n",
       "      <td>475.077740</td>\n",
       "    </tr>\n",
       "    <tr>\n",
       "      <th>50%</th>\n",
       "      <td>2.000000</td>\n",
       "      <td>5.000000</td>\n",
       "      <td>788.730000</td>\n",
       "      <td>0.000000</td>\n",
       "      <td>1.000000</td>\n",
       "      <td>0.000000</td>\n",
       "      <td>24822.960000</td>\n",
       "      <td>1.000000</td>\n",
       "      <td>1.000000</td>\n",
       "      <td>598.522001</td>\n",
       "    </tr>\n",
       "    <tr>\n",
       "      <th>75%</th>\n",
       "      <td>3.000000</td>\n",
       "      <td>6.000000</td>\n",
       "      <td>893.340000</td>\n",
       "      <td>1.000000</td>\n",
       "      <td>1.000000</td>\n",
       "      <td>1.000000</td>\n",
       "      <td>31462.810000</td>\n",
       "      <td>2.000000</td>\n",
       "      <td>1.000000</td>\n",
       "      <td>729.877149</td>\n",
       "    </tr>\n",
       "    <tr>\n",
       "      <th>max</th>\n",
       "      <td>5.000000</td>\n",
       "      <td>11.000000</td>\n",
       "      <td>1189.120000</td>\n",
       "      <td>1.000000</td>\n",
       "      <td>1.000000</td>\n",
       "      <td>1.000000</td>\n",
       "      <td>56531.080000</td>\n",
       "      <td>4.000000</td>\n",
       "      <td>1.000000</td>\n",
       "      <td>1102.994109</td>\n",
       "    </tr>\n",
       "  </tbody>\n",
       "</table>\n",
       "</div>"
      ],
      "text/plain": [
       "        NumStanze  NumPersone  DimensioniCasa  AriaCondizionata          Tv  \\\n",
       "count  985.000000  985.000000      985.000000        985.000000  985.000000   \n",
       "mean     1.974619    4.916751      794.795076          0.376650    0.796954   \n",
       "std      1.011301    1.978331      148.095265          0.484792    0.402471   \n",
       "min      0.000000    0.000000      244.400000          0.000000    0.000000   \n",
       "25%      1.000000    4.000000      691.100000          0.000000    1.000000   \n",
       "50%      2.000000    5.000000      788.730000          0.000000    1.000000   \n",
       "75%      3.000000    6.000000      893.340000          1.000000    1.000000   \n",
       "max      5.000000   11.000000     1189.120000          1.000000    1.000000   \n",
       "\n",
       "       Appartamento       Reddito  NumBambini  AreaUrbana  ImportoPagato  \n",
       "count    985.000000    985.000000  985.000000  985.000000     985.000000  \n",
       "mean       0.475127  24864.951096    1.073096    0.608122     600.532678  \n",
       "std        0.499635   9512.214266    0.928729    0.488418     181.323729  \n",
       "min        0.000000     37.780000    0.000000    0.000000      87.851850  \n",
       "25%        0.000000  18394.700000    0.000000    0.000000     475.077740  \n",
       "50%        0.000000  24822.960000    1.000000    1.000000     598.522001  \n",
       "75%        1.000000  31462.810000    2.000000    1.000000     729.877149  \n",
       "max        1.000000  56531.080000    4.000000    1.000000    1102.994109  "
      ]
     },
     "execution_count": 11,
     "metadata": {},
     "output_type": "execute_result"
    }
   ],
   "source": [
    "dataset.describe()"
   ]
  },
  {
   "cell_type": "markdown",
   "metadata": {},
   "source": [
    "A seguito di questa operazione, abbiamo a disposizione 985 righe differenti, un numero comunque sufficientemente alto per le operazioni successive."
   ]
  },
  {
   "cell_type": "markdown",
   "metadata": {},
   "source": [
    "### Analisi Esplorativa delle Feature\n",
    "\n",
    "Procediamo ora con l'analisi delle singole feature a partire con la variabile da predire."
   ]
  },
  {
   "cell_type": "code",
   "execution_count": 12,
   "metadata": {
    "scrolled": false
   },
   "outputs": [
    {
     "data": {
      "image/png": "[encoded data removed]",
      "text/plain": [
       "<Figure size 2304x432 with 1 Axes>"
      ]
     },
     "metadata": {
      "needs_background": "light"
     },
     "output_type": "display_data"
    }
   ],
   "source": [
    "plt.figure(figsize=(32,6))\n",
    "\n",
    "plt.subplot(1,2,1)\n",
    "sb.histplot(x=\"ImportoPagato\", data=dataset);"
   ]
  },
  {
   "cell_type": "markdown",
   "metadata": {},
   "source": [
    "Da questo istogramma è facilmente intuibile come l'importo pagato mensilmente (fondamentalmente la bolletta elettrica) è molto concentrato nell'intervallo che va dai 400 agli 800 euro."
   ]
  },
  {
   "cell_type": "code",
   "execution_count": 13,
   "metadata": {
    "scrolled": true
   },
   "outputs": [
    {
     "data": {
      "image/png": "[encoded data removed]",
      "text/plain": [
       "<Figure size 1440x720 with 2 Axes>"
      ]
     },
     "metadata": {
      "needs_background": "light"
     },
     "output_type": "display_data"
    }
   ],
   "source": [
    "plt.figure(figsize=(20,10))\n",
    "\n",
    "plt.subplot(2,2,1)\n",
    "sb.histplot(x=\"DimensioniCasa\", data=dataset);\n",
    "\n",
    "plt.subplot(2,2,2)\n",
    "sb.histplot(x=\"Reddito\", data=dataset);"
   ]
  },
  {
   "cell_type": "markdown",
   "metadata": {},
   "source": [
    "Dai grafici sopra disegnati si può invece notare come la maggior parte delle abitazioni sono dai 600 ai 1000 metri cubi di dimensione, costituendo una simil curva gaussiana.\n",
    "\n",
    "Stesso discorso si può estendere alla feature riguardante il Reddito che vede valori frequenti tra i 15.000 e i 35.000 euro."
   ]
  },
  {
   "cell_type": "code",
   "execution_count": 14,
   "metadata": {},
   "outputs": [
    {
     "data": {
      "image/png": "[encoded data removed]",
      "text/plain": [
       "<Figure size 1440x720 with 6 Axes>"
      ]
     },
     "metadata": {
      "needs_background": "light"
     },
     "output_type": "display_data"
    }
   ],
   "source": [
    "plt.figure(figsize=(20,10))\n",
    "\n",
    "plt.subplot(3,2,1)\n",
    "sb.countplot(x=\"NumStanze\", data=dataset);\n",
    "\n",
    "plt.subplot(3,2,2)\n",
    "sb.countplot(x=\"NumPersone\", data=dataset);\n",
    "\n",
    "plt.subplot(3,2,3)\n",
    "sb.countplot(x=\"NumBambini\", data=dataset);\n",
    "\n",
    "plt.subplot(3,2,4)\n",
    "sb.countplot(x=\"AriaCondizionata\", data=dataset);\n",
    "\n",
    "plt.subplot(3,2,5)\n",
    "sb.countplot(x=\"Tv\", data=dataset);\n",
    "\n",
    "plt.subplot(3,2,6)\n",
    "sb.countplot(x=\"Appartamento\", data=dataset);"
   ]
  },
  {
   "cell_type": "markdown",
   "metadata": {},
   "source": [
    "Da questi istogrammi si può osservare come:\n",
    "- Il numero di stanze di una abitazione costituisce una curva gaussiana che ha come moda il valore 2\n",
    "- Il numero di persone che vivono all'interno di un'abitazione solitamente varia dalle 4 alle 6\n",
    "- La maggior parte delle famiglie facenti parte il Dataset o non ha figli o ne ha solamente uno\n",
    "- Vi sono più abitazioni non aventi Aria Condizionata \n",
    "- Quasi tutte le case hanno una Tv\n",
    "- Più o meno la metà delle famiglie abita in un appartamento\n"
   ]
  },
  {
   "cell_type": "markdown",
   "metadata": {},
   "source": [
    "### Esplorazione delle relazioni tra Feature"
   ]
  },
  {
   "cell_type": "markdown",
   "metadata": {},
   "source": [
    "Significativa può essere la distinzione tra le abitazioni che si trovano in un'area urbana da quelle che si trovano in periferia.\n",
    "Visualizziamo prima come sono distribuiti i valori tra case in area urbana e case in periferia."
   ]
  },
  {
   "cell_type": "code",
   "execution_count": 15,
   "metadata": {},
   "outputs": [
    {
     "data": {
      "image/png": "[encoded data removed]",
      "text/plain": [
       "<Figure size 1080x504 with 1 Axes>"
      ]
     },
     "metadata": {
      "needs_background": "light"
     },
     "output_type": "display_data"
    }
   ],
   "source": [
    "plt.figure(figsize=(15,7))\n",
    "\n",
    "plt.subplot(1,1,1)\n",
    "sb.countplot(x=\"AreaUrbana\", data=dataset);"
   ]
  },
  {
   "cell_type": "markdown",
   "metadata": {},
   "source": [
    "Notiamo subito come i valori siano un po' sbilanciati ma comunque significativi per una comparazione.\n",
    "\n",
    "Suddividiamo, quindi, il Dataset in due viste (una per le abitazioni in zone urbane e una per quelle in periferia)."
   ]
  },
  {
   "cell_type": "code",
   "execution_count": 16,
   "metadata": {
    "scrolled": false
   },
   "outputs": [
    {
     "data": {
      "image/png": "[encoded data removed]",
      "text/plain": [
       "<Figure size 432x288 with 1 Axes>"
      ]
     },
     "metadata": {
      "needs_background": "light"
     },
     "output_type": "display_data"
    },
    {
     "data": {
      "image/png": "[encoded data removed]",
      "text/plain": [
       "<Figure size 432x288 with 1 Axes>"
      ]
     },
     "metadata": {
      "needs_background": "light"
     },
     "output_type": "display_data"
    }
   ],
   "source": [
    "dati_urbana = dataset[dataset[\"AreaUrbana\"] == 1]\n",
    "dati_periferia = dataset[dataset[\"AreaUrbana\"] == 0]\n",
    "\n",
    "dati_urbana.plot.scatter(\"ImportoPagato\", \"DimensioniCasa\", s=25, c=\"red\");\n",
    "dati_periferia.plot.scatter(\"ImportoPagato\", \"DimensioniCasa\", s=25, c=\"red\");"
   ]
  },
  {
   "cell_type": "markdown",
   "metadata": {},
   "source": [
    "Come si può vedere con l'esempio sopra, i valori sono molto distribuiti su tutto il grafico con, però, differenze importanti tra un grafico e l'altro. Il primo, che considera solo le abitazioni in aree urbane, vede le dimensioni delle case e gli importi più elevati rispetto alle zone periferiche.\n",
    "Si può osservare ancora meglio con la seguente visualizzazione dei dati."
   ]
  },
  {
   "cell_type": "code",
   "execution_count": 17,
   "metadata": {},
   "outputs": [
    {
     "data": {
      "text/html": [
       "<div>\n",
       "<style scoped>\n",
       "    .dataframe tbody tr th:only-of-type {\n",
       "        vertical-align: middle;\n",
       "    }\n",
       "\n",
       "    .dataframe tbody tr th {\n",
       "        vertical-align: top;\n",
       "    }\n",
       "\n",
       "    .dataframe thead th {\n",
       "        text-align: right;\n",
       "    }\n",
       "</style>\n",
       "<table border=\"1\" class=\"dataframe\">\n",
       "  <thead>\n",
       "    <tr style=\"text-align: right;\">\n",
       "      <th></th>\n",
       "      <th>NumStanze</th>\n",
       "      <th>NumPersone</th>\n",
       "      <th>DimensioniCasa</th>\n",
       "      <th>AriaCondizionata</th>\n",
       "      <th>Tv</th>\n",
       "      <th>Appartamento</th>\n",
       "      <th>Reddito</th>\n",
       "      <th>NumBambini</th>\n",
       "      <th>ImportoPagato</th>\n",
       "    </tr>\n",
       "    <tr>\n",
       "      <th>AreaUrbana</th>\n",
       "      <th></th>\n",
       "      <th></th>\n",
       "      <th></th>\n",
       "      <th></th>\n",
       "      <th></th>\n",
       "      <th></th>\n",
       "      <th></th>\n",
       "      <th></th>\n",
       "      <th></th>\n",
       "    </tr>\n",
       "  </thead>\n",
       "  <tbody>\n",
       "    <tr>\n",
       "      <th>0</th>\n",
       "      <td>1.997409</td>\n",
       "      <td>4.963731</td>\n",
       "      <td>789.580130</td>\n",
       "      <td>0.406736</td>\n",
       "      <td>0.782383</td>\n",
       "      <td>0.476684</td>\n",
       "      <td>25453.254275</td>\n",
       "      <td>1.080311</td>\n",
       "      <td>454.055595</td>\n",
       "    </tr>\n",
       "    <tr>\n",
       "      <th>1</th>\n",
       "      <td>1.959933</td>\n",
       "      <td>4.886477</td>\n",
       "      <td>798.155626</td>\n",
       "      <td>0.357262</td>\n",
       "      <td>0.806344</td>\n",
       "      <td>0.474124</td>\n",
       "      <td>24485.844207</td>\n",
       "      <td>1.068447</td>\n",
       "      <td>694.923586</td>\n",
       "    </tr>\n",
       "  </tbody>\n",
       "</table>\n",
       "</div>"
      ],
      "text/plain": [
       "            NumStanze  NumPersone  DimensioniCasa  AriaCondizionata        Tv  \\\n",
       "AreaUrbana                                                                      \n",
       "0            1.997409    4.963731      789.580130          0.406736  0.782383   \n",
       "1            1.959933    4.886477      798.155626          0.357262  0.806344   \n",
       "\n",
       "            Appartamento       Reddito  NumBambini  ImportoPagato  \n",
       "AreaUrbana                                                         \n",
       "0               0.476684  25453.254275    1.080311     454.055595  \n",
       "1               0.474124  24485.844207    1.068447     694.923586  "
      ]
     },
     "execution_count": 17,
     "metadata": {},
     "output_type": "execute_result"
    }
   ],
   "source": [
    "dati = dataset.groupby([\"AreaUrbana\"])\n",
    "dati.mean()"
   ]
  },
  {
   "cell_type": "markdown",
   "metadata": {},
   "source": [
    "Vi sono alcune considerazioni che possiamo trarre dalla suddivisione appena effettuata:\n",
    "- L'importo pagato è nettamente più alto in centro dove la media si attesta sui 700 euro contro i 450 della periferia\n",
    "- Altro dato interessante e inaspettato allo stesso tempo è quello riferito alle dimensioni delle case, superiori in centro nonostante gli spazi siano limitati\n",
    "- I restanti dati sono molto simili, sinonimo del fatto che la posizione della casa non influisce direttamente sulle altre feature."
   ]
  },
  {
   "cell_type": "markdown",
   "metadata": {},
   "source": [
    "E' possibile fare considerazioni anche sui dati riguardanti la Tv e l'aria condizionata"
   ]
  },
  {
   "cell_type": "code",
   "execution_count": 18,
   "metadata": {
    "scrolled": true
   },
   "outputs": [
    {
     "data": {
      "text/html": [
       "<div>\n",
       "<style scoped>\n",
       "    .dataframe tbody tr th:only-of-type {\n",
       "        vertical-align: middle;\n",
       "    }\n",
       "\n",
       "    .dataframe tbody tr th {\n",
       "        vertical-align: top;\n",
       "    }\n",
       "\n",
       "    .dataframe thead th {\n",
       "        text-align: right;\n",
       "    }\n",
       "</style>\n",
       "<table border=\"1\" class=\"dataframe\">\n",
       "  <thead>\n",
       "    <tr style=\"text-align: right;\">\n",
       "      <th></th>\n",
       "      <th></th>\n",
       "      <th>NumStanze</th>\n",
       "      <th>NumPersone</th>\n",
       "      <th>DimensioniCasa</th>\n",
       "      <th>Appartamento</th>\n",
       "      <th>Reddito</th>\n",
       "      <th>NumBambini</th>\n",
       "      <th>AreaUrbana</th>\n",
       "      <th>ImportoPagato</th>\n",
       "    </tr>\n",
       "    <tr>\n",
       "      <th>AriaCondizionata</th>\n",
       "      <th>Tv</th>\n",
       "      <th></th>\n",
       "      <th></th>\n",
       "      <th></th>\n",
       "      <th></th>\n",
       "      <th></th>\n",
       "      <th></th>\n",
       "      <th></th>\n",
       "      <th></th>\n",
       "    </tr>\n",
       "  </thead>\n",
       "  <tbody>\n",
       "    <tr>\n",
       "      <th rowspan=\"2\" valign=\"top\">0</th>\n",
       "      <th>0</th>\n",
       "      <td>1.944444</td>\n",
       "      <td>4.761905</td>\n",
       "      <td>755.326905</td>\n",
       "      <td>0.484127</td>\n",
       "      <td>23949.263492</td>\n",
       "      <td>1.015873</td>\n",
       "      <td>0.587302</td>\n",
       "      <td>467.026796</td>\n",
       "    </tr>\n",
       "    <tr>\n",
       "      <th>1</th>\n",
       "      <td>1.963115</td>\n",
       "      <td>4.897541</td>\n",
       "      <td>800.178361</td>\n",
       "      <td>0.469262</td>\n",
       "      <td>25220.387398</td>\n",
       "      <td>1.114754</td>\n",
       "      <td>0.637295</td>\n",
       "      <td>565.595946</td>\n",
       "    </tr>\n",
       "    <tr>\n",
       "      <th rowspan=\"2\" valign=\"top\">1</th>\n",
       "      <th>0</th>\n",
       "      <td>2.067568</td>\n",
       "      <td>4.986486</td>\n",
       "      <td>789.088514</td>\n",
       "      <td>0.540541</td>\n",
       "      <td>25669.227162</td>\n",
       "      <td>1.054054</td>\n",
       "      <td>0.567568</td>\n",
       "      <td>634.074736</td>\n",
       "    </tr>\n",
       "    <tr>\n",
       "      <th>1</th>\n",
       "      <td>1.983165</td>\n",
       "      <td>4.996633</td>\n",
       "      <td>804.115724</td>\n",
       "      <td>0.464646</td>\n",
       "      <td>24469.016061</td>\n",
       "      <td>1.033670</td>\n",
       "      <td>0.579125</td>\n",
       "      <td>706.218719</td>\n",
       "    </tr>\n",
       "  </tbody>\n",
       "</table>\n",
       "</div>"
      ],
      "text/plain": [
       "                     NumStanze  NumPersone  DimensioniCasa  Appartamento  \\\n",
       "AriaCondizionata Tv                                                        \n",
       "0                0    1.944444    4.761905      755.326905      0.484127   \n",
       "                 1    1.963115    4.897541      800.178361      0.469262   \n",
       "1                0    2.067568    4.986486      789.088514      0.540541   \n",
       "                 1    1.983165    4.996633      804.115724      0.464646   \n",
       "\n",
       "                          Reddito  NumBambini  AreaUrbana  ImportoPagato  \n",
       "AriaCondizionata Tv                                                       \n",
       "0                0   23949.263492    1.015873    0.587302     467.026796  \n",
       "                 1   25220.387398    1.114754    0.637295     565.595946  \n",
       "1                0   25669.227162    1.054054    0.567568     634.074736  \n",
       "                 1   24469.016061    1.033670    0.579125     706.218719  "
      ]
     },
     "execution_count": 18,
     "metadata": {},
     "output_type": "execute_result"
    }
   ],
   "source": [
    "dati = dataset.groupby([\"AriaCondizionata\", \"Tv\"])\n",
    "dati.mean()"
   ]
  },
  {
   "cell_type": "markdown",
   "metadata": {},
   "source": [
    "Da questa tabella si può osservare come la presenza di fattori come l'Aria Condizionata o la Tv, implichino un aumento nei costi della bolletta a fine mese, sintomo di un consumo di elettricità maggiore. Interessante notare come influisca di più e di conseguenza pesi di più nelle spese, l'uso dell'Aria condizionata rispetto a quello della Tv (infatti nelle case dove c'è solo la Tv, la spesa media si attesta sui 565 euro a discapito di chi ha solo l'aria condizionata dove l'importo raggiunge quota 630)\n",
    "\n",
    "\n",
    "Nonostante questo risultato possa far pensare ad un uso maggiore dell'aria condizionata nelle zone dove si hanno costi maggiori (nelle aree urbane), questo non viene confermato nella tabella precedente che mostrava come fosse più comune avere l'aria condizionata in periferia. \n",
    "\n",
    "Il dato riguardante le Tv, invece, trova congruenze con quanto visto in precedenza, dato dal fatto che sia più comune possedere una Tv in città (dove si hanno costi più elevati)."
   ]
  },
  {
   "cell_type": "code",
   "execution_count": 19,
   "metadata": {
    "scrolled": false
   },
   "outputs": [
    {
     "data": {
      "text/html": [
       "<div>\n",
       "<style scoped>\n",
       "    .dataframe tbody tr th:only-of-type {\n",
       "        vertical-align: middle;\n",
       "    }\n",
       "\n",
       "    .dataframe tbody tr th {\n",
       "        vertical-align: top;\n",
       "    }\n",
       "\n",
       "    .dataframe thead th {\n",
       "        text-align: right;\n",
       "    }\n",
       "</style>\n",
       "<table border=\"1\" class=\"dataframe\">\n",
       "  <thead>\n",
       "    <tr style=\"text-align: right;\">\n",
       "      <th></th>\n",
       "      <th>NumStanze</th>\n",
       "      <th>NumPersone</th>\n",
       "      <th>DimensioniCasa</th>\n",
       "      <th>AriaCondizionata</th>\n",
       "      <th>Tv</th>\n",
       "      <th>Appartamento</th>\n",
       "      <th>Reddito</th>\n",
       "      <th>AreaUrbana</th>\n",
       "      <th>ImportoPagato</th>\n",
       "    </tr>\n",
       "    <tr>\n",
       "      <th>NumBambini</th>\n",
       "      <th></th>\n",
       "      <th></th>\n",
       "      <th></th>\n",
       "      <th></th>\n",
       "      <th></th>\n",
       "      <th></th>\n",
       "      <th></th>\n",
       "      <th></th>\n",
       "      <th></th>\n",
       "    </tr>\n",
       "  </thead>\n",
       "  <tbody>\n",
       "    <tr>\n",
       "      <th>0</th>\n",
       "      <td>2.067524</td>\n",
       "      <td>4.877814</td>\n",
       "      <td>790.155177</td>\n",
       "      <td>0.395498</td>\n",
       "      <td>0.794212</td>\n",
       "      <td>0.508039</td>\n",
       "      <td>24256.213923</td>\n",
       "      <td>0.607717</td>\n",
       "      <td>506.598413</td>\n",
       "    </tr>\n",
       "    <tr>\n",
       "      <th>1</th>\n",
       "      <td>1.928962</td>\n",
       "      <td>5.051913</td>\n",
       "      <td>792.342623</td>\n",
       "      <td>0.385246</td>\n",
       "      <td>0.781421</td>\n",
       "      <td>0.461749</td>\n",
       "      <td>25227.412650</td>\n",
       "      <td>0.609290</td>\n",
       "      <td>594.189705</td>\n",
       "    </tr>\n",
       "    <tr>\n",
       "      <th>2</th>\n",
       "      <td>1.932773</td>\n",
       "      <td>4.735294</td>\n",
       "      <td>802.428403</td>\n",
       "      <td>0.336134</td>\n",
       "      <td>0.815126</td>\n",
       "      <td>0.445378</td>\n",
       "      <td>25268.158151</td>\n",
       "      <td>0.617647</td>\n",
       "      <td>681.610215</td>\n",
       "    </tr>\n",
       "    <tr>\n",
       "      <th>3</th>\n",
       "      <td>1.923077</td>\n",
       "      <td>4.953846</td>\n",
       "      <td>803.180923</td>\n",
       "      <td>0.369231</td>\n",
       "      <td>0.846154</td>\n",
       "      <td>0.461538</td>\n",
       "      <td>24713.607538</td>\n",
       "      <td>0.569231</td>\n",
       "      <td>765.567921</td>\n",
       "    </tr>\n",
       "    <tr>\n",
       "      <th>4</th>\n",
       "      <td>2.200000</td>\n",
       "      <td>5.600000</td>\n",
       "      <td>790.554000</td>\n",
       "      <td>0.600000</td>\n",
       "      <td>0.600000</td>\n",
       "      <td>1.000000</td>\n",
       "      <td>18971.028000</td>\n",
       "      <td>0.600000</td>\n",
       "      <td>902.800591</td>\n",
       "    </tr>\n",
       "  </tbody>\n",
       "</table>\n",
       "</div>"
      ],
      "text/plain": [
       "            NumStanze  NumPersone  DimensioniCasa  AriaCondizionata        Tv  \\\n",
       "NumBambini                                                                      \n",
       "0            2.067524    4.877814      790.155177          0.395498  0.794212   \n",
       "1            1.928962    5.051913      792.342623          0.385246  0.781421   \n",
       "2            1.932773    4.735294      802.428403          0.336134  0.815126   \n",
       "3            1.923077    4.953846      803.180923          0.369231  0.846154   \n",
       "4            2.200000    5.600000      790.554000          0.600000  0.600000   \n",
       "\n",
       "            Appartamento       Reddito  AreaUrbana  ImportoPagato  \n",
       "NumBambini                                                         \n",
       "0               0.508039  24256.213923    0.607717     506.598413  \n",
       "1               0.461749  25227.412650    0.609290     594.189705  \n",
       "2               0.445378  25268.158151    0.617647     681.610215  \n",
       "3               0.461538  24713.607538    0.569231     765.567921  \n",
       "4               1.000000  18971.028000    0.600000     902.800591  "
      ]
     },
     "execution_count": 19,
     "metadata": {},
     "output_type": "execute_result"
    },
    {
     "data": {
      "image/png": "[encoded data removed]",
      "text/plain": [
       "<Figure size 432x288 with 1 Axes>"
      ]
     },
     "metadata": {
      "needs_background": "light"
     },
     "output_type": "display_data"
    }
   ],
   "source": [
    "dati = dataset.groupby([\"NumBambini\"])\n",
    "dataset.plot.scatter(\"ImportoPagato\", \"NumBambini\", s=25, c=\"red\");\n",
    "dati.mean()"
   ]
  },
  {
   "cell_type": "markdown",
   "metadata": {},
   "source": [
    "Rilevante anche la presenza di bambini nelle varie abitazioni, dato che comporta aumenti nelle dimensioni della casa e nell'importo da pagare a fine mese."
   ]
  },
  {
   "cell_type": "markdown",
   "metadata": {},
   "source": [
    "Procediamo preparando il training ed il validation set."
   ]
  },
  {
   "cell_type": "markdown",
   "metadata": {},
   "source": [
    "### Divisione tra Training e Validation set\n",
    "Dividiamo le istanze del Dataset in due set:\n",
    "- un training set che ci servirà per addestrare i vari modelli di regressione\n",
    "- un validation set che ci servirà per verificare l'accuratezza dei modelli di regressione\n",
    "\n",
    "Per fare ciò, usiamo la funzione train_test_split di scikit-learn precedentemente importata e gli passiamo:\n",
    "- la colonna del dataset riguardante il dato da predire, ovvero ImportoPagato\n",
    "- il resto del Dataset costituito dai dati che ci serviranno poi per predire l'importo pagato\n",
    "- test_size che indica quanti valori serviranno per il Training set e quanti per il Validation set (scegliamo un 70% per il Training)\n"
   ]
  },
  {
   "cell_type": "code",
   "execution_count": 20,
   "metadata": {},
   "outputs": [],
   "source": [
    "y = dataset['ImportoPagato']\n",
    "X = dataset.drop('ImportoPagato',1)\n",
    "X_train, X_val, y_train, y_val = train_test_split(X, y, train_size=0.7)"
   ]
  },
  {
   "cell_type": "markdown",
   "metadata": {},
   "source": [
    "## Modellazione"
   ]
  },
  {
   "cell_type": "markdown",
   "metadata": {},
   "source": [
    "Importiamo le librerie necessarie per la costruzione dei modelli di regressione."
   ]
  },
  {
   "cell_type": "code",
   "execution_count": 21,
   "metadata": {},
   "outputs": [],
   "source": [
    "from sklearn.preprocessing import StandardScaler\n",
    "from sklearn.linear_model import ElasticNet\n",
    "from sklearn.kernel_ridge import KernelRidge\n",
    "from sklearn.linear_model import LinearRegression\n",
    "from sklearn.model_selection import KFold\n",
    "from sklearn.model_selection import cross_val_score\n",
    "from sklearn.model_selection import train_test_split\n",
    "from sklearn.metrics import mean_squared_error, r2_score\n",
    "from sklearn.pipeline import Pipeline\n",
    "from sklearn.preprocessing import PolynomialFeatures\n",
    "from sklearn.model_selection import GridSearchCV\n",
    "from sklearn.linear_model import Ridge\n",
    "from sklearn.linear_model import LassoCV\n",
    "from sklearn.linear_model import ElasticNetCV\n",
    "from sklearn.model_selection import GridSearchCV"
   ]
  },
  {
   "cell_type": "markdown",
   "metadata": {},
   "source": [
    "Scriviamo le due funzioni per la validazione (le quali calcolano l'errore relativo ed eseguono la stampa di errore relativo e r quadro) e una funzione che presi in input il modello e X_train, restituisce errore relativo, coefficiente R-quadro sui dati di Addestramento e coefficiente R-quadro sui dati di Validazione."
   ]
  },
  {
   "cell_type": "code",
   "execution_count": 22,
   "metadata": {},
   "outputs": [],
   "source": [
    "def relative_error(y_true, y_pred):\n",
    "    return np.mean(np.abs((y_true - y_pred) / y_true))\n",
    "\n",
    "def printError(err_rel, r_train, r_val):\n",
    "    print(\"                                Errore relativo: {:.5%}\".format(err_rel))\n",
    "    print(\"Coefficiente R-quadro sui dati di Addestramento: {:.5}\".format(r_train))\n",
    "    print(\"  Coefficiente R-quadro sui dati di Validazione: {:.5}\".format(r_val))\n",
    "    \n",
    "def getModelParams(model, X_train):\n",
    "    preds_train = model.predict(X_train)\n",
    "    preds_val = model.predict(X_val)\n",
    "    return relative_error(y_val, preds_val), r2_score(y_train, preds_train), r2_score(y_val, preds_val)"
   ]
  },
  {
   "cell_type": "markdown",
   "metadata": {},
   "source": [
    "Ora che il training set è pronto possiamo addestrare i modelli."
   ]
  },
  {
   "cell_type": "markdown",
   "metadata": {},
   "source": [
    "### Regressione Lineare ###"
   ]
  },
  {
   "cell_type": "code",
   "execution_count": 23,
   "metadata": {},
   "outputs": [],
   "source": [
    "def linearRegression(X_train, y_train):\n",
    "    model = LinearRegression()\n",
    "    model.fit(X_train, y_train)\n",
    "    return model"
   ]
  },
  {
   "cell_type": "code",
   "execution_count": 24,
   "metadata": {},
   "outputs": [
    {
     "name": "stdout",
     "output_type": "stream",
     "text": [
      "                                Errore relativo: 10.65045%\n",
      "Coefficiente R-quadro sui dati di Addestramento: 0.88309\n",
      "  Coefficiente R-quadro sui dati di Validazione: 0.87059\n"
     ]
    }
   ],
   "source": [
    "model = linearRegression(X_train, y_train)\n",
    "err_rel, r_train, r_val = getModelParams(model, X_train)\n",
    "printError(err_rel, r_train, r_val)"
   ]
  },
  {
   "cell_type": "markdown",
   "metadata": {},
   "source": [
    "### Regressione Ridge"
   ]
  },
  {
   "cell_type": "markdown",
   "metadata": {},
   "source": [
    "Eseguiamo il modello di regressione Ridge sul valore alpha migliore."
   ]
  },
  {
   "cell_type": "code",
   "execution_count": 25,
   "metadata": {},
   "outputs": [],
   "source": [
    "def ridgeRegression(X_train, y_train):\n",
    "    model = Ridge()\n",
    "    parameters = {'alpha': range(1,50)}\n",
    "    ridge = GridSearchCV(model, parameters, scoring='r2',cv=5)\n",
    "    ridge.fit(X_train, y_train)\n",
    "    return ridge, ridge.best_params_['alpha']"
   ]
  },
  {
   "cell_type": "code",
   "execution_count": 26,
   "metadata": {},
   "outputs": [
    {
     "name": "stdout",
     "output_type": "stream",
     "text": [
      "  Coefficiente R-quadro sui dati di Validazione: 0.87022\n",
      "                                 Alpha migliore: 1\n"
     ]
    }
   ],
   "source": [
    "model, alpha = ridgeRegression(X_train, y_train)\n",
    "r_val = model.score(X_val,y_val)\n",
    "print(\"  Coefficiente R-quadro sui dati di Validazione: {:.5}\".format(r_val))\n",
    "print(\"                                 Alpha migliore: \" + str(alpha))"
   ]
  },
  {
   "cell_type": "markdown",
   "metadata": {},
   "source": [
    "### Regressione lineare con standardizzazione delle feature"
   ]
  },
  {
   "cell_type": "code",
   "execution_count": 27,
   "metadata": {},
   "outputs": [],
   "source": [
    "def linearRegressionWithStandardization(X_train, y_train):\n",
    "    model = Pipeline([\n",
    "        (\"scale\", StandardScaler()),\n",
    "        (\"lr\", LinearRegression())\n",
    "    ])\n",
    "    model.fit(X_train, y_train)\n",
    "    return model"
   ]
  },
  {
   "cell_type": "code",
   "execution_count": 28,
   "metadata": {},
   "outputs": [
    {
     "name": "stdout",
     "output_type": "stream",
     "text": [
      "                                Errore relativo: 10.65045%\n",
      "Coefficiente R-quadro sui dati di Addestramento: 0.88309\n",
      "  Coefficiente R-quadro sui dati di Validazione: 0.87059\n"
     ]
    }
   ],
   "source": [
    "model = linearRegressionWithStandardization(X_train, y_train)\n",
    "err_rel, r_train, r_val = getModelParams(model, X_train)\n",
    "printError(err_rel, r_train, r_val)"
   ]
  },
  {
   "cell_type": "markdown",
   "metadata": {},
   "source": [
    "Si nota come i risultati siano uguali al modello di Regressione Lineare semplice."
   ]
  },
  {
   "cell_type": "markdown",
   "metadata": {},
   "source": [
    "### Regressione Lasso"
   ]
  },
  {
   "cell_type": "markdown",
   "metadata": {},
   "source": [
    "Eseguiamo il modello di regressione Lasso sul valore alpha migliore."
   ]
  },
  {
   "cell_type": "code",
   "execution_count": 29,
   "metadata": {},
   "outputs": [],
   "source": [
    "def lassoRegression(X_train, y_train):\n",
    "    model = LassoCV(cv=5, random_state=0, normalize=True).fit(X_train, y_train)\n",
    "    return model, model.alpha_, model.n_iter_"
   ]
  },
  {
   "cell_type": "code",
   "execution_count": 30,
   "metadata": {},
   "outputs": [
    {
     "name": "stdout",
     "output_type": "stream",
     "text": [
      "                                Errore relativo: 10.70716%\n",
      "Coefficiente R-quadro sui dati di Addestramento: 0.88301\n",
      "  Coefficiente R-quadro sui dati di Validazione: 0.87045\n",
      "                                 Alpha migliore: 0.02254\n",
      "                              Numero iterazioni: 4\n"
     ]
    }
   ],
   "source": [
    "model, alpha, it = lassoRegression(X_train, y_train)\n",
    "err_rel, r_train, r_val = getModelParams(model, X_train)\n",
    "printError(err_rel, r_train, r_val)\n",
    "print(\"                                 Alpha migliore: {:.7}\".format(str(alpha)))\n",
    "print(\"                              Numero iterazioni: \" + str(it))\n"
   ]
  },
  {
   "cell_type": "markdown",
   "metadata": {},
   "source": [
    "### Regressione Elastic Net "
   ]
  },
  {
   "cell_type": "markdown",
   "metadata": {},
   "source": [
    "Eseguiamo il modello di regressione Elastic Net sul valore alpha migliore."
   ]
  },
  {
   "cell_type": "code",
   "execution_count": 31,
   "metadata": {},
   "outputs": [],
   "source": [
    "def elasticNetRegression(X_train, y_train):\n",
    "    el = ElasticNetCV(cv=5, random_state=0, normalize=True).fit(X_train, y_train)\n",
    "    model = Pipeline([\n",
    "        (\"scale\",  StandardScaler()),\n",
    "        (\"regr\", ElasticNet(alpha=0.1, l1_ratio=0.1))\n",
    "    ])\n",
    "    model.fit(X_train, y_train)\n",
    "    return model, el.alpha_, el.n_iter_"
   ]
  },
  {
   "cell_type": "code",
   "execution_count": 32,
   "metadata": {},
   "outputs": [
    {
     "name": "stdout",
     "output_type": "stream",
     "text": [
      "                                Errore relativo: 11.35001%\n",
      "Coefficiente R-quadro sui dati di Addestramento: 0.87683\n",
      "  Coefficiente R-quadro sui dati di Validazione: 0.86105\n",
      "                                 Alpha migliore: 0.00905\n",
      "                              Numero iterazioni: 4\n"
     ]
    }
   ],
   "source": [
    "model, alpha, it = elasticNetRegression(X_train, y_train)\n",
    "err_rel, r_train, r_val = getModelParams(model, X_train)\n",
    "printError(err_rel, r_train, r_val)\n",
    "print(\"                                 Alpha migliore: {:.7}\".format(str(alpha)))\n",
    "print(\"                              Numero iterazioni: \" + str(it))"
   ]
  },
  {
   "cell_type": "markdown",
   "metadata": {},
   "source": [
    "### Regressione Polinomiale\n"
   ]
  },
  {
   "cell_type": "code",
   "execution_count": 33,
   "metadata": {},
   "outputs": [],
   "source": [
    "def polynomialRegression(X_train, y_train):\n",
    "    model = Pipeline([\n",
    "                (\"poly\",\n",
    "                 PolynomialFeatures(degree=2, include_bias=False)),\n",
    "                (\"linreg\",LinearRegression(normalize=True))\n",
    "    ])\n",
    "    model.fit(X_train, y_train)\n",
    "    y_pred = model.predict(X_val)\n",
    "    return model"
   ]
  },
  {
   "cell_type": "code",
   "execution_count": 34,
   "metadata": {},
   "outputs": [
    {
     "name": "stdout",
     "output_type": "stream",
     "text": [
      "                                Errore relativo: 10.84845%\n",
      "Coefficiente R-quadro sui dati di Addestramento: 0.89375\n",
      "  Coefficiente R-quadro sui dati di Validazione: 0.86193\n"
     ]
    }
   ],
   "source": [
    "model = polynomialRegression(X_train, y_train)\n",
    "err_rel, r_train, r_val = getModelParams(model, X_train)\n",
    "printError(err_rel, r_train, r_val)"
   ]
  },
  {
   "cell_type": "markdown",
   "metadata": {},
   "source": [
    "### Regressione Polinomiale con GridSearch\n"
   ]
  },
  {
   "cell_type": "code",
   "execution_count": 35,
   "metadata": {},
   "outputs": [],
   "source": [
    "def gridSearchRegression(X_train, y_train):\n",
    "    model = Pipeline(steps=[\n",
    "        ('poly', PolynomialFeatures(include_bias=False)),\n",
    "        ('model', LinearRegression(normalize=True)),\n",
    "    ])\n",
    "\n",
    "    search = GridSearchCV(\n",
    "        estimator=model,\n",
    "        param_grid={'poly__degree': list(range(1,5))},\n",
    "        scoring='r2',\n",
    "    )\n",
    "\n",
    "    search.fit(X_train, y_train)\n",
    "    return search, search.best_params_[\"poly__degree\"]"
   ]
  },
  {
   "cell_type": "code",
   "execution_count": 36,
   "metadata": {
    "scrolled": true
   },
   "outputs": [
    {
     "name": "stdout",
     "output_type": "stream",
     "text": [
      "  Coefficiente R-quadro sui dati di Validazione: 0.87059\n",
      "                   Grado del polinomio migliore: 1\n"
     ]
    }
   ],
   "source": [
    "search, degree = gridSearchRegression(X_train, y_train)\n",
    "r_val = search.score(X_val,y_val)\n",
    "print(\"  Coefficiente R-quadro sui dati di Validazione: {:.5}\".format(r_val))\n",
    "print(\"                   Grado del polinomio migliore: \" + str(degree))"
   ]
  },
  {
   "cell_type": "markdown",
   "metadata": {},
   "source": [
    "Dal momento che il polinomio migliore è quello con grado uguale a 1, comprendiamo come la Regressione Polinomiale risulta meno efficiente rispetto alla regressione lineare, infatti una regressione polinomiale con grado 1 è equivalente alla regressione lineare (inoltre dal grado del polinomio migliore si può intuire come sia più accurato il modello di regressione polinomiale con GridSearch che il modello di regressione polinomiale sopra dato che è impostato con grado 2)."
   ]
  },
  {
   "cell_type": "markdown",
   "metadata": {},
   "source": [
    "### Regressione Kernel"
   ]
  },
  {
   "cell_type": "code",
   "execution_count": 37,
   "metadata": {},
   "outputs": [],
   "source": [
    "def kernelFunctionRegression(X_train, y_train):\n",
    "    model = Pipeline([\n",
    "        (\"scale\", StandardScaler()),\n",
    "        (\"regr\",  KernelRidge(alpha=20, kernel=\"poly\", degree=5))\n",
    "    ])\n",
    "    model.fit(X_train, y_train)\n",
    "    return model"
   ]
  },
  {
   "cell_type": "code",
   "execution_count": 38,
   "metadata": {},
   "outputs": [
    {
     "name": "stdout",
     "output_type": "stream",
     "text": [
      "                                Errore relativo: 11.36775%\n",
      "Coefficiente R-quadro sui dati di Addestramento: 0.90767\n",
      "  Coefficiente R-quadro sui dati di Validazione: 0.82637\n"
     ]
    }
   ],
   "source": [
    "model = kernelFunctionRegression(X_train, y_train)\n",
    "err_rel, r_train, r_val = getModelParams(model, X_train)\n",
    "printError(err_rel, r_train, r_val)"
   ]
  },
  {
   "cell_type": "markdown",
   "metadata": {},
   "source": [
    "## Valutazione modelli migliori"
   ]
  },
  {
   "cell_type": "markdown",
   "metadata": {},
   "source": [
    "Terminate le operazioni per i vari modelli di regressione lineare, vogliamo trovare quello con il valore R-quadro maggiore tra tutti. Per fare ciò, ci costruiamo un array NumPy contenente nella prima colonna delle stringhe rappresentanti il nome del modello di regressione, mentre nella seconda i valori di R-quadro calcolati. \n",
    "\n",
    "Per prendere comodamente i valori sfruttiamo le funzioni costruite in precedenza dei modelli di regressione in combinazione con la funzione `getModelParams` che preso il model di ciascun modello, restituisce errore relativo, coefficiente R-quadro sui dati di Addestramento e coefficiente R-quadro sui dati di Validazione. Per semplicità prendiamo in considerazione i soli coefficienti R-quadro sui dati di Validazione."
   ]
  },
  {
   "cell_type": "code",
   "execution_count": 39,
   "metadata": {},
   "outputs": [
    {
     "name": "stdout",
     "output_type": "stream",
     "text": [
      "[['linRegression' '0.8705933882902746']\n",
      " ['ridRegression' '0.8702248356763824']\n",
      " ['stdRegression' '0.8705933882902764']\n",
      " ['lasRegression' '0.8704491391487794']\n",
      " ['elnRegression' '0.8610537141513481']\n",
      " ['polRegression' '0.8619250733171376']\n",
      " ['grdRegression' '0.8705933882902763']\n",
      " ['kerRegression' '0.8263723689609291']]\n"
     ]
    }
   ],
   "source": [
    "array = np.array([[\"linRegression\", getModelParams(linearRegression(X_train, y_train), X_train)[2]],\n",
    "          [\"ridRegression\", ridgeRegression(X_train, y_train)[0].score(X_val,y_val)],\n",
    "          [\"stdRegression\", getModelParams(linearRegressionWithStandardization(X_train, y_train), X_train)[2]],\n",
    "          [\"lasRegression\", getModelParams(lassoRegression(X_train, y_train)[0], X_train)[2]],\n",
    "          [\"elnRegression\", getModelParams(elasticNetRegression(X_train, y_train)[0], X_train)[2]],\n",
    "          [\"polRegression\", getModelParams(polynomialRegression(X_train, y_train), X_train)[2]],\n",
    "          [\"grdRegression\", gridSearchRegression(X_train, y_train)[0].score(X_val,y_val)],\n",
    "          [\"kerRegression\", getModelParams(kernelFunctionRegression(X_train, y_train), X_train)[2]]])\n",
    "\n",
    "print(array)"
   ]
  },
  {
   "cell_type": "markdown",
   "metadata": {},
   "source": [
    "Una volta costruito l'array, ordiniamo in modo decrescente i valori della seconda colonna, quella dei coefficienti R-quadro sui dati di Validazione."
   ]
  },
  {
   "cell_type": "code",
   "execution_count": 40,
   "metadata": {
    "scrolled": false
   },
   "outputs": [
    {
     "name": "stdout",
     "output_type": "stream",
     "text": [
      "[['stdRegression' '0.8705933882902764']\n",
      " ['grdRegression' '0.8705933882902763']\n",
      " ['linRegression' '0.8705933882902746']\n",
      " ['lasRegression' '0.8704491391487794']\n",
      " ['ridRegression' '0.8702248356763824']\n",
      " ['polRegression' '0.8619250733171376']\n",
      " ['elnRegression' '0.8610537141513481']\n",
      " ['kerRegression' '0.8263723689609291']]\n"
     ]
    }
   ],
   "source": [
    "array = np.array(array[array.argsort(0)[:, 1]])[::-1]\n",
    "print(array)"
   ]
  },
  {
   "cell_type": "markdown",
   "metadata": {},
   "source": [
    "Notiamo, infine, come il modello di regressione con coefficiente R-quadro sui dati di Validazione maggiore è la regressione Lasso seguita subito dopo dalla regressione Ridge. "
   ]
  },
  {
   "cell_type": "markdown",
   "metadata": {},
   "source": [
    "## Conclusioni"
   ]
  },
  {
   "cell_type": "markdown",
   "metadata": {},
   "source": [
    "Tutti i modelli addestrati hanno una buona accuratezza. I due peggiori sono la regressione Polinomiale e la regressione Kernel Function, che dispongono comunque di un coefficiente R-quadro ottimo. Se dovessi scegliere il modello di regressione per il Dataset, probabilmente mi affiderei al modello di regressione Lineare perchè ha praticamente la stessa accuratezza di Ridge e Lasso ma è molto meno costoso computazionalmente."
   ]
  },
  {
   "cell_type": "markdown",
   "metadata": {},
   "source": [
    "Scegliendo, quindi, questo modello, si vuole verificare l'influenza dei parametri nella predizione dell'Importo Pagato"
   ]
  },
  {
   "cell_type": "code",
   "execution_count": 41,
   "metadata": {},
   "outputs": [],
   "source": [
    "model = linearRegression(X_train, y_train)\n",
    "err_rel, r_train, r_val = getModelParams(model, X_train)"
   ]
  },
  {
   "cell_type": "code",
   "execution_count": 42,
   "metadata": {},
   "outputs": [
    {
     "name": "stdout",
     "output_type": "stream",
     "text": [
      "NumStanze 0.14960697870598236\n",
      "NumPersone 5.714156074734364\n",
      "DimensioniCasa 0.03548673204084149\n",
      "AriaCondizionata 163.75735314332294\n",
      "Tv 73.55115148018356\n",
      "Appartamento 62.7045078764217\n",
      "Reddito 0.0007985185145633622\n",
      "NumBambini 91.50012405075621\n",
      "AreaUrbana 242.61926271631424\n"
     ]
    }
   ],
   "source": [
    "for c, p in zip(X.columns, model.coef_):\n",
    "    print(c, p)"
   ]
  },
  {
   "cell_type": "markdown",
   "metadata": {},
   "source": [
    "Si può osservare come le variabili che influiscono maggiormente sul prezzo sono l'Area Urbana (come anche discusso in precedenza nella sezione dei grafici) e la presenza o meno dell'Aria Condizionata. Irrilevanti nel processo di predizione, invece, reddito e Dimensioni della casa. \n",
    "Per tutte le feature, vi è un rapporto direttamente proporzionale con il costo della bolletta elettrica."
   ]
  },
  {
   "cell_type": "code",
   "execution_count": null,
   "metadata": {},
   "outputs": [],
   "source": []
  }
 ],
 "metadata": {
  "kernelspec": {
   "display_name": "Python 3",
   "language": "python",
   "name": "python3"
  },
  "language_info": {
   "codemirror_mode": {
    "name": "ipython",
    "version": 3
   },
   "file_extension": ".py",
   "mimetype": "text/x-python",
   "name": "python",
   "nbconvert_exporter": "python",
   "pygments_lexer": "ipython3",
   "version": "3.8.10"
  }
 },
 "nbformat": 4,
 "nbformat_minor": 4
}
